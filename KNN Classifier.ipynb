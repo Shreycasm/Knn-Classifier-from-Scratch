{
 "cells": [
  {
   "cell_type": "code",
   "execution_count": 1,
   "id": "831105e0",
   "metadata": {
    "ExecuteTime": {
     "end_time": "2024-03-11T13:30:11.564341Z",
     "start_time": "2024-03-11T13:30:09.331730Z"
    }
   },
   "outputs": [],
   "source": [
    "import numpy as np\n",
    "import pandas as pd\n",
    "from collections import Counter\n",
    "from sklearn.model_selection import train_test_split\n",
    "from sklearn.preprocessing import StandardScaler\n",
    "from sklearn.datasets import load_breast_cancer\n",
    "from sklearn.neighbors import KNeighborsClassifier\n",
    "from sklearn.metrics import accuracy_score"
   ]
  },
  {
   "cell_type": "code",
   "execution_count": 2,
   "id": "5de370fb",
   "metadata": {
    "ExecuteTime": {
     "end_time": "2024-03-11T13:30:11.583414Z",
     "start_time": "2024-03-11T13:30:11.564341Z"
    }
   },
   "outputs": [],
   "source": [
    "data = load_breast_cancer()"
   ]
  },
  {
   "cell_type": "code",
   "execution_count": 3,
   "id": "d0cee2c0",
   "metadata": {
    "ExecuteTime": {
     "end_time": "2024-03-11T13:30:11.588631Z",
     "start_time": "2024-03-11T13:30:11.584885Z"
    }
   },
   "outputs": [],
   "source": [
    "X = data.data\n",
    "y = data.target"
   ]
  },
  {
   "cell_type": "code",
   "execution_count": 4,
   "id": "d4531f0d",
   "metadata": {
    "ExecuteTime": {
     "end_time": "2024-03-11T13:30:11.598885Z",
     "start_time": "2024-03-11T13:30:11.589904Z"
    }
   },
   "outputs": [],
   "source": [
    "X_train,X_test , y_train, y_test = train_test_split(X, y, test_size=0.3, random_state=0)\n",
    "scaler = StandardScaler()\n",
    "scaled_train = scaler.fit_transform(X_train)\n",
    "scaled_test = scaler.transform(X_test)"
   ]
  },
  {
   "cell_type": "markdown",
   "id": "84b8235c",
   "metadata": {},
   "source": [
    "# Using Sklearns Implementation"
   ]
  },
  {
   "cell_type": "code",
   "execution_count": 5,
   "id": "06dfae0e",
   "metadata": {
    "ExecuteTime": {
     "end_time": "2024-03-11T13:30:11.830294Z",
     "start_time": "2024-03-11T13:30:11.600556Z"
    }
   },
   "outputs": [
    {
     "data": {
      "text/plain": [
       "0.9590643274853801"
      ]
     },
     "execution_count": 5,
     "metadata": {},
     "output_type": "execute_result"
    }
   ],
   "source": [
    "knn = KNeighborsClassifier()\n",
    "knn.fit(scaled_train, y_train)\n",
    "pred = knn.predict(scaled_test)\n",
    "accuracy_score(pred, y_test)"
   ]
  },
  {
   "cell_type": "markdown",
   "id": "b4a6c53b",
   "metadata": {
    "ExecuteTime": {
     "end_time": "2024-03-11T12:21:23.288182Z",
     "start_time": "2024-03-11T12:21:23.284723Z"
    }
   },
   "source": [
    "# Using self made class"
   ]
  },
  {
   "cell_type": "code",
   "execution_count": 6,
   "id": "106ee265",
   "metadata": {
    "ExecuteTime": {
     "end_time": "2024-03-11T13:30:12.162047Z",
     "start_time": "2024-03-11T13:30:11.833107Z"
    }
   },
   "outputs": [
    {
     "data": {
      "text/plain": [
       "0.9590643274853801"
      ]
     },
     "execution_count": 6,
     "metadata": {},
     "output_type": "execute_result"
    }
   ],
   "source": [
    "class raw_knn:\n",
    "    def __init__(self, n_neigbours = 5):\n",
    "        self.n_neigbours = n_neigbours\n",
    "        self.X_train = None\n",
    "        self.y_train = None\n",
    "        \n",
    "    def fit(self, X_train, y_train):\n",
    "        self.X_train = X_train\n",
    "        self.y_train = y_train\n",
    "        \n",
    "    def predict(self, X_test):\n",
    "        y_pred = []\n",
    "        for i in X_test:\n",
    "            distances = []\n",
    "            for j in self.X_train:\n",
    "                \n",
    "                distances.append(self.dictance_calculation(i, j))\n",
    "                      \n",
    "            k_loc_n_distance = sorted(list(enumerate(distances)), key=lambda x:x[1])[0:self.n_neigbours]\n",
    "            labels = self.count_majority(k_loc_n_distance)\n",
    "            y_pred.append(labels)\n",
    "        return np.array(y_pred)\n",
    "                \n",
    "                \n",
    "    def dictance_calculation(self, i ,j):\n",
    "        return np.linalg.norm(i-j)\n",
    "    \n",
    "    def count_majority(self, k_loc_n_distance):\n",
    "        votes = []\n",
    "        for i in k_loc_n_distance:\n",
    "            votes.append(self.y_train[i[0]])\n",
    "        votes = Counter(votes)\n",
    "        \n",
    "        return votes.most_common()[0][0]\n",
    "    \n",
    "knn1 = raw_knn()\n",
    "knn1.fit(scaled_train, y_train)\n",
    "y_pred = knn1.predict(scaled_test)\n",
    "accuracy_score(y_pred, y_test)"
   ]
  },
  {
   "cell_type": "code",
   "execution_count": null,
   "id": "702e2b22",
   "metadata": {},
   "outputs": [],
   "source": []
  }
 ],
 "metadata": {
  "kernelspec": {
   "display_name": "Python 3 (ipykernel)",
   "language": "python",
   "name": "python3"
  },
  "language_info": {
   "codemirror_mode": {
    "name": "ipython",
    "version": 3
   },
   "file_extension": ".py",
   "mimetype": "text/x-python",
   "name": "python",
   "nbconvert_exporter": "python",
   "pygments_lexer": "ipython3",
   "version": "3.11.5"
  },
  "toc": {
   "base_numbering": 1,
   "nav_menu": {},
   "number_sections": true,
   "sideBar": true,
   "skip_h1_title": false,
   "title_cell": "Table of Contents",
   "title_sidebar": "Contents",
   "toc_cell": false,
   "toc_position": {},
   "toc_section_display": true,
   "toc_window_display": false
  },
  "varInspector": {
   "cols": {
    "lenName": 16,
    "lenType": 16,
    "lenVar": 40
   },
   "kernels_config": {
    "python": {
     "delete_cmd_postfix": "",
     "delete_cmd_prefix": "del ",
     "library": "var_list.py",
     "varRefreshCmd": "print(var_dic_list())"
    },
    "r": {
     "delete_cmd_postfix": ") ",
     "delete_cmd_prefix": "rm(",
     "library": "var_list.r",
     "varRefreshCmd": "cat(var_dic_list()) "
    }
   },
   "types_to_exclude": [
    "module",
    "function",
    "builtin_function_or_method",
    "instance",
    "_Feature"
   ],
   "window_display": false
  }
 },
 "nbformat": 4,
 "nbformat_minor": 5
}
